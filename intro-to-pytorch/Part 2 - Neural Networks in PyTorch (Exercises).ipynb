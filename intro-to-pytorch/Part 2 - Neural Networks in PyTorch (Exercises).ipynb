{
 "cells": [
  {
   "cell_type": "markdown",
   "metadata": {},
   "source": [
    "# Neural networks with PyTorch\n",
    "\n",
    "Deep learning networks tend to be massive with dozens or hundreds of layers, that's where the term \"deep\" comes from. You can build one of these deep networks using only weight matrices as we did in the previous notebook, but in general it's very cumbersome and difficult to implement. PyTorch has a nice module `nn` that provides a nice way to efficiently build large neural networks."
   ]
  },
  {
   "cell_type": "code",
   "execution_count": 1,
   "metadata": {
    "ExecuteTime": {
     "end_time": "2019-12-03T12:15:44.560729Z",
     "start_time": "2019-12-03T12:15:43.993052Z"
    }
   },
   "outputs": [],
   "source": [
    "# Import necessary packages\n",
    "\n",
    "%matplotlib inline\n",
    "%config InlineBackend.figure_format = 'retina'\n",
    "\n",
    "import numpy as np\n",
    "import torch\n",
    "\n",
    "import helper\n",
    "\n",
    "import matplotlib.pyplot as plt"
   ]
  },
  {
   "cell_type": "markdown",
   "metadata": {},
   "source": [
    "\n",
    "Now we're going to build a larger network that can solve a (formerly) difficult problem, identifying text in an image. Here we'll use the MNIST dataset which consists of greyscale handwritten digits. Each image is 28x28 pixels, you can see a sample below\n",
    "\n",
    "<img src='assets/mnist.png'>\n",
    "\n",
    "Our goal is to build a neural network that can take one of these images and predict the digit in the image.\n",
    "\n",
    "First up, we need to get our dataset. This is provided through the `torchvision` package. The code below will download the MNIST dataset, then create training and test datasets for us. Don't worry too much about the details here, you'll learn more about this later.\n",
    "\n",
    "第一步，需要获取数据集。这里torchvision包可以获取到MNIST数据集。用下面的代码来获取数据集。"
   ]
  },
  {
   "cell_type": "code",
   "execution_count": 2,
   "metadata": {
    "ExecuteTime": {
     "end_time": "2019-12-03T12:17:40.775358Z",
     "start_time": "2019-12-03T12:17:32.290038Z"
    }
   },
   "outputs": [
    {
     "name": "stdout",
     "output_type": "stream",
     "text": [
      "Downloading http://yann.lecun.com/exdb/mnist/train-images-idx3-ubyte.gz to C:\\Users\\BarneyQ/.pytorch/MNIST_data/MNIST\\raw\\train-images-idx3-ubyte.gz\n"
     ]
    },
    {
     "name": "stderr",
     "output_type": "stream",
     "text": [
      "100.1%"
     ]
    },
    {
     "name": "stdout",
     "output_type": "stream",
     "text": [
      "Extracting C:\\Users\\BarneyQ/.pytorch/MNIST_data/MNIST\\raw\\train-images-idx3-ubyte.gz to C:\\Users\\BarneyQ/.pytorch/MNIST_data/MNIST\\raw\n",
      "Downloading http://yann.lecun.com/exdb/mnist/train-labels-idx1-ubyte.gz to C:\\Users\\BarneyQ/.pytorch/MNIST_data/MNIST\\raw\\train-labels-idx1-ubyte.gz\n"
     ]
    },
    {
     "name": "stderr",
     "output_type": "stream",
     "text": [
      "113.5%"
     ]
    },
    {
     "name": "stdout",
     "output_type": "stream",
     "text": [
      "Extracting C:\\Users\\BarneyQ/.pytorch/MNIST_data/MNIST\\raw\\train-labels-idx1-ubyte.gz to C:\\Users\\BarneyQ/.pytorch/MNIST_data/MNIST\\raw\n",
      "Downloading http://yann.lecun.com/exdb/mnist/t10k-images-idx3-ubyte.gz to C:\\Users\\BarneyQ/.pytorch/MNIST_data/MNIST\\raw\\t10k-images-idx3-ubyte.gz\n"
     ]
    },
    {
     "name": "stderr",
     "output_type": "stream",
     "text": [
      "100.4%"
     ]
    },
    {
     "name": "stdout",
     "output_type": "stream",
     "text": [
      "Extracting C:\\Users\\BarneyQ/.pytorch/MNIST_data/MNIST\\raw\\t10k-images-idx3-ubyte.gz to C:\\Users\\BarneyQ/.pytorch/MNIST_data/MNIST\\raw\n",
      "Downloading http://yann.lecun.com/exdb/mnist/t10k-labels-idx1-ubyte.gz to C:\\Users\\BarneyQ/.pytorch/MNIST_data/MNIST\\raw\\t10k-labels-idx1-ubyte.gz\n"
     ]
    },
    {
     "name": "stderr",
     "output_type": "stream",
     "text": [
      "180.4%"
     ]
    },
    {
     "name": "stdout",
     "output_type": "stream",
     "text": [
      "Extracting C:\\Users\\BarneyQ/.pytorch/MNIST_data/MNIST\\raw\\t10k-labels-idx1-ubyte.gz to C:\\Users\\BarneyQ/.pytorch/MNIST_data/MNIST\\raw\n",
      "Processing...\n",
      "Done!\n"
     ]
    }
   ],
   "source": [
    "### Run this cell\n",
    "\n",
    "from torchvision import datasets, transforms\n",
    "\n",
    "# Define a transform to normalize the data\n",
    "transform = transforms.Compose([transforms.ToTensor(),\n",
    "                              transforms.Normalize((0.5,), (0.5,)),\n",
    "                              ])\n",
    "\n",
    "# Download and load the training data\n",
    "trainset = datasets.MNIST('~/.pytorch/MNIST_data/', download=True, train=True, transform=transform)\n",
    "trainloader = torch.utils.data.DataLoader(trainset, batch_size=64, shuffle=True)"
   ]
  },
  {
   "cell_type": "markdown",
   "metadata": {},
   "source": [
    "We have the training data loaded into `trainloader` and we make that an iterator with `iter(trainloader)`. Later, we'll use this to loop through the dataset for training, like\n",
    "\n",
    "```python\n",
    "for image, label in trainloader:\n",
    "    ## do things with images and labels\n",
    "```\n",
    "\n",
    "You'll notice I created the `trainloader` with a batch size of 64, and `shuffle=True`. The batch size is the number of images we get in one iteration from the data loader and pass through our network, often called a *batch*. <font color = 'red'>这里batch size定义为从data lodader中一个迭代取出多少张图像（也就是说多少张样本）</font>And `shuffle=True` tells it to shuffle the dataset every time we start going through the data loader again（说白了就是要随机抽取64张图像）. But here I'm just grabbing the first batch so we can check out the data. We can see below that `images` is just a tensor with size `(64, 1, 28, 28)`. So, 64 images per batch, 1 color channel, and 28x28 images."
   ]
  },
  {
   "cell_type": "code",
   "execution_count": 3,
   "metadata": {
    "ExecuteTime": {
     "end_time": "2019-12-03T12:22:30.814036Z",
     "start_time": "2019-12-03T12:22:30.755007Z"
    }
   },
   "outputs": [
    {
     "name": "stdout",
     "output_type": "stream",
     "text": [
      "<class 'torch.Tensor'>\n",
      "torch.Size([64, 1, 28, 28])\n",
      "torch.Size([64])\n"
     ]
    }
   ],
   "source": [
    "dataiter = iter(trainloader) # iter() 函数  迭代器，也可以用上面那个for循环来做\n",
    "images, labels = dataiter.next()\n",
    "print(type(images))\n",
    "print(images.shape)\n",
    "print(labels.shape)"
   ]
  },
  {
   "cell_type": "markdown",
   "metadata": {},
   "source": [
    "This is what one of the images looks like. "
   ]
  },
  {
   "cell_type": "code",
   "execution_count": 5,
   "metadata": {
    "ExecuteTime": {
     "end_time": "2019-12-03T12:29:27.514081Z",
     "start_time": "2019-12-03T12:29:27.346549Z"
    }
   },
   "outputs": [
    {
     "data": {
      "image/png": "[encoded data removed]",
      "text/plain": [
       "<Figure size 432x288 with 1 Axes>"
      ]
     },
     "metadata": {
      "image/png": {
       "height": 248,
       "width": 251
      },
      "needs_background": "light"
     },
     "output_type": "display_data"
    }
   ],
   "source": [
    "plt.imshow(images[1].numpy().squeeze(), cmap='Greys_r');\n",
    "# images[1]取出images向量中第一个分量的图，也是个tensor\n",
    "# .numpy()即把tensor转换成numpy数组(1,28,28)\n",
    "# 把numpy数组调用squeeze函数，去掉分量为1的shape，那么这个图就变成了一个28 28 的矩阵\n",
    "# cmap属性 colormap属性指定色图 这里也就是画成灰度图就ok了"
   ]
  },
  {
   "cell_type": "markdown",
   "metadata": {},
   "source": [
    "接下来，我们首先构架另一个简单的网络。然后再用Pytorch中nn模块去构建网络结构。"
   ]
  },
  {
   "cell_type": "markdown",
   "metadata": {},
   "source": [
    "First, let's try to build a simple network for this dataset using weight matrices and matrix multiplications. Then, we'll see how to do it using PyTorch's `nn` module which provides a much more convenient and powerful method for defining network architectures.\n",
    "\n",
    "The networks you've seen so far are called *fully-connected* or *dense* networks(全连接层). Each unit in one layer is connected to each unit in the next layer（上一层中每个单元都与下一层相连）. In fully-connected networks, the input to each layer must be a one-dimensional vector (which can be stacked into a 2D tensor as a batch of multiple examples每个层的输入必须是一个一维的向量，可以被春城2D的tensor，则作为一个batch). However, our images are 28x28 2D tensors, so we need to convert them into 1D vectors. Thinking about sizes, we need to convert the batch of images with shape `(64, 1, 28, 28)` to a have a shape of `(64, 784)`, 784 is 28 times 28. This is typically called *flattening*, we flattened the 2D images into 1D vectors.将2D图像转换成1D的Vector。\n",
    "\n",
    "Previously you built a network with one output unit. Here we need 10 output units, one for each digit. We want our network to predict the digit shown in an image, so what we'll do is calculate probabilities that the image is of any one digit or class. This ends up being a discrete probability distribution over the classes (digits) that tells us the most likely class for the image. That means we need 10 output units for the 10 classes (digits). We'll see how to convert the network output into a probability distribution next.\n",
    "\n",
    "> **Exercise:** Flatten the batch of images `images`. Then build a multi-layer network with 784 input units, 256 hidden units, and 10 output units using random tensors for the weights and biases. For now, use a sigmoid activation for the hidden layer. Leave the output layer without an activation, we'll add one that gives us a probability distribution next."
   ]
  },
  {
   "cell_type": "code",
   "execution_count": 13,
   "metadata": {
    "ExecuteTime": {
     "end_time": "2019-12-03T12:56:56.223753Z",
     "start_time": "2019-12-03T12:56:56.204723Z"
    },
    "scrolled": true
   },
   "outputs": [
    {
     "name": "stdout",
     "output_type": "stream",
     "text": [
      "torch.Size([64, 10])\n",
      "tensor([[-6.7262e+00, -2.6448e+00, -8.0068e+00, -1.6679e+00,  1.0779e+01,\n",
      "          2.6937e+01, -6.6903e-01,  1.4991e+00, -8.7101e+00,  6.5875e-01],\n",
      "        [-2.4468e+00, -6.3572e+00, -7.5243e+00,  9.1189e-02,  3.9962e+00,\n",
      "          2.3289e+01, -2.8903e+00, -3.4592e+00, -2.9266e+00, -2.5785e+00],\n",
      "        [-3.9838e+00, -9.8925e+00, -1.1087e+01,  1.0694e+00,  1.0422e+01,\n",
      "          2.1766e+01,  1.2999e+00,  2.1226e+00, -1.2670e+01, -2.4153e+00],\n",
      "        [-9.5049e+00, -2.0973e+00, -6.3652e+00, -5.8369e+00,  3.4194e+00,\n",
      "          2.2669e+01, -4.1416e+00, -1.7576e+00, -1.5218e+01, -6.9571e+00],\n",
      "        [-9.5434e+00, -8.8047e+00, -1.6798e+01, -1.5102e+01,  8.3458e+00,\n",
      "          2.4090e+01, -1.1729e+01,  1.3289e+00, -5.4907e-01, -4.2228e+00],\n",
      "        [-7.8411e+00, -1.7648e+00, -1.4375e+01, -1.0209e+01,  5.7822e+00,\n",
      "          3.0349e+01, -9.0564e+00,  5.5508e+00,  6.6561e+00,  1.0421e+01],\n",
      "        [ 3.1184e-01, -9.1634e+00, -6.3865e+00, -1.4260e+00,  1.1010e+01,\n",
      "          2.1650e+01, -6.9323e+00, -2.0063e+00,  5.7103e+00,  3.3529e+00],\n",
      "        [-4.0199e+00, -8.8910e+00, -1.4583e+01, -3.8927e+00,  1.0605e+01,\n",
      "          2.1822e+01, -1.6796e+01,  9.6474e-01, -3.9736e-01, -3.2445e+00],\n",
      "        [-3.5659e+00, -1.3698e+00, -9.5676e+00, -3.5619e+00,  1.0820e+01,\n",
      "          2.3859e+01,  1.4743e+00,  4.5342e+00, -1.0817e+01, -7.9883e+00],\n",
      "        [-3.9529e+00, -3.0690e+00, -8.9335e+00, -8.1110e+00,  8.3005e+00,\n",
      "          1.8624e+01,  1.3763e+00, -1.6500e+00, -5.6472e+00,  8.1262e+00],\n",
      "        [-4.8113e+00, -2.1540e+00, -5.0722e+00, -4.9287e+00,  1.4328e+01,\n",
      "          2.2985e+01, -1.3593e+00,  3.5339e+00, -8.0749e+00,  6.2509e+00],\n",
      "        [-1.6689e+01, -6.3340e+00, -5.9312e+00, -7.8938e+00,  7.8943e+00,\n",
      "          2.9583e+01, -1.3712e+00,  7.1008e+00, -6.2838e+00, -5.2223e+00],\n",
      "        [-3.8219e+00, -9.5653e+00, -8.6757e+00, -2.9434e+00,  9.6014e+00,\n",
      "          2.4252e+01, -5.7622e+00,  2.1553e+00, -2.6337e-01, -1.0234e+00],\n",
      "        [-9.8760e-02, -9.1225e-01, -1.5525e+01, -4.3198e-01,  1.0308e+01,\n",
      "          2.3322e+01, -1.8611e+01,  4.6257e+00, -1.0699e+00, -7.2632e+00],\n",
      "        [ 4.3179e+00, -1.1333e+01, -6.7513e+00,  7.4544e-01,  4.1052e+00,\n",
      "          2.8923e+01, -4.4632e+00,  1.4419e+00, -5.1749e+00, -1.6450e+00],\n",
      "        [ 9.7052e-02, -2.7995e+00, -1.4752e+00, -1.0921e+01,  1.4606e+01,\n",
      "          3.0237e+01,  2.4335e-01,  1.9484e+00, -5.2866e+00, -6.5919e-01],\n",
      "        [-3.6779e+00, -9.7437e+00, -4.5880e+00, -3.8974e+00,  1.4251e+01,\n",
      "          3.0435e+01, -2.0166e+00,  3.2287e+00, -9.4203e+00,  4.0649e+00],\n",
      "        [-1.4658e+01, -6.9444e+00, -7.1564e+00, -1.4725e+01,  1.0294e+01,\n",
      "          2.5143e+01,  8.3221e-01, -5.1940e-01, -5.8120e+00, -1.0896e+01],\n",
      "        [-3.6084e+00, -2.7814e+00, -4.7573e+00, -7.6251e+00,  1.9749e+01,\n",
      "          2.2433e+01,  2.0612e+00, -3.4650e+00, -8.8125e-01, -4.1077e-01],\n",
      "        [-9.1348e+00, -1.2468e+01, -1.0776e+01, -1.1648e+00,  1.1290e+01,\n",
      "          2.5057e+01, -5.5632e+00,  1.2165e+01, -4.5097e+00, -5.2539e+00],\n",
      "        [ 1.4185e+00, -8.7776e+00, -6.9679e+00, -6.0527e+00,  1.1735e+01,\n",
      "          2.5020e+01,  1.7175e+00,  9.2043e-01, -8.9473e+00,  3.8352e+00],\n",
      "        [ 7.0012e-01, -3.8238e+00, -1.8903e+01, -1.5548e+01,  1.4288e+01,\n",
      "          2.3610e+01, -4.6037e+00,  2.5275e+00, -3.0625e+00, -4.0119e+00],\n",
      "        [-2.5678e+00, -4.7782e+00, -6.4010e+00, -1.0648e+01,  5.4144e+00,\n",
      "          2.6139e+01, -1.4198e+00,  4.7898e+00, -8.6165e+00,  6.7326e+00],\n",
      "        [-4.3564e+00, -1.2657e+01, -1.0069e+01, -4.0868e+00,  1.2130e+01,\n",
      "          2.2919e+01, -3.8588e+00,  6.6472e+00, -1.3490e+01, -1.1333e+01],\n",
      "        [-4.4651e+00, -1.1774e+00, -8.4337e+00, -1.1339e+01, -5.4436e-01,\n",
      "          2.6259e+01, -1.1048e+01, -2.0374e+00,  1.0769e+01,  7.6756e-01],\n",
      "        [-6.1422e+00, -1.5438e-01, -6.8415e-01, -2.0301e+01,  9.8053e+00,\n",
      "          2.7262e+01, -3.4054e+00,  7.0859e+00,  1.5782e+00, -2.1571e+00],\n",
      "        [-5.4359e+00,  1.0953e+00, -5.6876e+00, -1.1431e+01,  1.6983e+01,\n",
      "          2.4477e+01, -3.8636e+00,  2.7280e+00, -1.8279e+00,  1.0372e+00],\n",
      "        [ 2.1114e+00, -3.9483e+00, -7.4799e+00, -2.4414e+00,  1.2318e+01,\n",
      "          2.0424e+01, -1.0083e+01,  2.7826e+00,  6.6185e+00,  3.2747e+00],\n",
      "        [-5.6334e-01, -3.8943e+00, -9.2309e+00, -4.7761e+00,  7.9800e+00,\n",
      "          2.1686e+01, -1.9852e+00,  6.0538e+00, -9.5012e+00, -4.8135e+00],\n",
      "        [-1.0244e+01, -2.6376e-01, -9.6516e+00, -1.3998e+01,  1.5732e+01,\n",
      "          2.7509e+01, -1.0178e+00,  4.2684e+00, -8.0154e+00,  2.0605e+00],\n",
      "        [-5.2917e+00, -9.9626e+00, -8.9033e+00, -6.1994e-01,  6.1971e+00,\n",
      "          2.6493e+01, -6.6169e+00, -2.0508e+00, -2.8819e+00,  1.8304e+00],\n",
      "        [-2.2079e+00, -4.5415e+00, -7.9597e+00, -1.1834e+01,  1.1036e+01,\n",
      "          3.3031e+01, -1.9225e+00,  2.7918e+00,  1.9800e+00,  5.8595e+00],\n",
      "        [-8.4556e+00, -2.2956e+00, -1.6272e+01, -5.4112e+00,  1.0956e+01,\n",
      "          1.4436e+01, -5.1543e+00, -7.5290e-01, -9.8994e+00,  8.6664e-03],\n",
      "        [-6.0445e+00, -2.9023e+00, -1.1438e+01, -1.4121e+01,  4.0661e+00,\n",
      "          1.6018e+01, -8.6945e+00, -8.7460e+00, -1.3272e+01, -7.5291e-02],\n",
      "        [ 5.4570e-01, -1.5030e+01, -6.1243e+00,  2.2882e+00,  5.3999e+00,\n",
      "          3.0763e+01, -1.3060e+01,  6.1062e-01, -2.1612e+00, -8.1448e-01],\n",
      "        [-6.5229e+00, -9.4882e-01, -8.1692e+00,  2.2457e+00,  9.4786e+00,\n",
      "          2.3795e+01, -4.8470e+00, -2.7952e-01, -7.9993e+00, -1.1378e+00],\n",
      "        [-5.4101e+00, -8.6010e+00, -1.0566e+01, -1.3003e+01, -7.0848e-02,\n",
      "          3.0471e+01, -3.7370e+00,  4.1398e+00,  5.7508e+00, -8.2134e-01],\n",
      "        [-4.7291e+00, -1.1304e+01, -1.1024e+01, -2.6359e+00,  8.3644e+00,\n",
      "          1.7504e+01, -4.2429e+00,  7.8916e-02, -5.8685e+00, -1.2586e+01],\n",
      "        [ 2.6800e+00, -3.7855e+00, -1.2227e+01, -8.5860e+00,  1.2681e+01,\n",
      "          2.8299e+01, -1.6886e+00,  6.8510e-01, -5.4224e+00, -2.9247e+00],\n",
      "        [-5.8027e+00, -1.0681e+01, -2.7535e+01, -1.3417e+01,  9.8250e+00,\n",
      "          2.6073e+01, -1.0749e+01,  4.7352e+00, -9.4615e+00, -1.8675e+00],\n",
      "        [-2.2777e+00,  1.5943e+00, -5.5684e-01, -3.6946e+00,  3.0907e+00,\n",
      "          2.2886e+01,  2.3936e+00,  6.0364e+00, -4.0536e+00, -1.7808e+01],\n",
      "        [ 1.0235e+00,  1.7439e+00, -1.0021e+01, -1.0622e+01,  3.8278e+00,\n",
      "          2.5126e+01, -3.0062e-01, -6.8191e+00, -1.6007e+00, -9.6176e+00],\n",
      "        [-9.3760e+00, -2.2771e+00, -1.5336e+01, -2.2888e+00,  1.5142e+01,\n",
      "          2.8567e+01,  5.8708e-01, -2.9086e+00, -3.9971e+00, -1.6609e+01],\n",
      "        [-8.7755e+00, -1.3810e+01,  2.6081e-01, -6.7389e+00,  4.6452e+00,\n",
      "          2.3468e+01, -6.1077e+00,  3.3889e+00, -5.6722e-01,  3.3824e+00],\n",
      "        [ 1.1954e+00, -3.2048e+00, -2.1822e+00,  2.8738e-01,  9.2220e+00,\n",
      "          2.9941e+01, -1.0810e+00,  5.7422e+00, -9.5517e+00,  1.7109e+00],\n",
      "        [-7.2896e+00,  7.0145e-01, -5.5744e+00, -1.1495e+01,  3.4886e+00,\n",
      "          2.6595e+01, -6.4227e+00, -1.0219e+00,  9.0903e-01, -1.8238e+00],\n",
      "        [-2.6990e+00, -6.2606e+00, -1.1442e+01, -7.8789e+00,  8.0435e+00,\n",
      "          1.7667e+01,  8.2779e-01,  2.0858e+00, -8.3130e+00,  2.0439e+00],\n",
      "        [-9.9321e+00, -1.2148e+01, -1.0098e+01, -2.1748e-01,  2.2922e+00,\n",
      "          2.2776e+01,  6.5638e+00, -2.5764e+00, -1.2473e+00, -4.1815e+00],\n",
      "        [-2.3693e+00, -4.0244e+00, -1.7552e+01, -7.0963e+00,  8.4565e+00,\n",
      "          2.8154e+01, -2.9286e+00, -1.0050e+00, -1.0038e+01, -5.1757e+00],\n",
      "        [ 3.6703e-01,  2.3003e+00, -6.7854e+00, -1.3378e+00,  8.7027e+00,\n",
      "          2.5895e+01,  2.3354e+00,  8.3962e+00, -4.6186e+00, -1.1577e+00],\n",
      "        [ 5.6272e-01, -3.7676e+00, -9.4970e+00, -7.5565e+00,  4.7865e+00,\n",
      "          2.5347e+01,  2.1510e+00,  5.2271e+00, -5.8399e+00, -6.6619e+00],\n",
      "        [-8.9455e-01, -1.7307e+00, -1.3613e+01, -4.2110e+00,  1.0503e+01,\n",
      "          3.3255e+01,  3.7794e+00, -6.2387e-01, -9.2406e+00, -2.3569e+00],\n",
      "        [-1.4244e+00, -3.5339e+00, -1.1283e+01, -1.5599e+01,  2.1622e+01,\n",
      "          2.3954e+01, -6.6796e+00, -5.2435e+00,  4.1774e+00,  1.7034e+00],\n",
      "        [-4.2491e+00, -1.1481e+00, -1.2143e+01, -1.5171e+01,  1.7543e+01,\n",
      "          2.2723e+01, -9.0797e+00,  3.7678e-01,  4.0187e+00, -1.0903e+01],\n",
      "        [-1.1295e+01, -1.3522e+01, -5.1942e+00, -5.7265e+00,  3.4718e-01,\n",
      "          3.0330e+01, -5.1729e-01,  2.4758e+00, -3.1381e+00, -2.1824e+00],\n",
      "        [ 1.0031e+00, -3.8881e+00, -4.7996e+00, -1.3932e+01,  1.6024e+01,\n",
      "          2.9846e+01,  5.5211e-01,  3.7999e+00, -7.0536e+00,  3.2497e+00],\n",
      "        [-2.7744e+00, -2.3044e+00, -7.1213e+00, -1.6844e+01,  1.2361e+01,\n",
      "          2.5229e+01,  6.5481e+00,  2.6902e+00, -1.0355e+01, -3.3539e+00],\n",
      "        [-5.5474e+00, -1.0108e+01, -1.2313e+01, -5.3048e+00,  1.3742e+01,\n",
      "          1.6501e+01,  6.0648e-01, -5.7769e-01, -5.7202e-01,  1.5604e+00],\n",
      "        [-1.0480e+01, -7.8987e-01, -1.1848e+01, -1.3273e+01,  2.8433e+00,\n",
      "          2.3410e+01,  1.7514e+00, -4.9396e+00,  1.8435e-01, -1.9122e+01],\n",
      "        [-1.6356e+01, -4.1950e+00, -9.5582e+00, -5.0206e+00,  1.2074e+00,\n",
      "          2.1940e+01, -3.8093e+00,  1.4197e+00, -8.9584e+00, -6.4533e+00],\n",
      "        [-8.8223e+00,  3.1455e+00, -6.3311e+00, -1.2913e+00,  1.4638e+01,\n",
      "          2.0311e+01, -5.3422e+00,  6.2963e+00, -8.8743e+00, -1.0940e+00],\n",
      "        [-1.5292e+01, -1.3332e+01,  2.5860e+00, -8.3647e+00,  1.1739e+01,\n",
      "          2.5786e+01,  7.5016e-01,  6.8187e+00, -3.3051e+00, -1.8752e+00],\n",
      "        [-6.3982e+00, -5.4360e+00, -5.1369e+00, -5.8620e+00,  4.1009e+00,\n",
      "          2.4518e+01, -1.1717e+01,  3.0068e+00, -2.9200e-01, -9.6287e+00],\n",
      "        [-5.5292e+00, -3.5589e+00, -4.6703e+00, -1.2798e+00,  1.5952e+00,\n",
      "          1.8038e+01, -5.5338e+00,  9.1053e+00, -3.2668e+00, -7.4741e+00]])\n"
     ]
    }
   ],
   "source": [
    "## Your solution\n",
    "\n",
    "## 1 定义激活函数\n",
    "def activation(x):\n",
    "        return 1/(torch.exp(-x)+1)\n",
    "## 2 定义存储输入和标签的变量    \n",
    "input = images.view(64,784)\n",
    "\n",
    "## 3 定义神经网络的结构\n",
    "n_input=  input.shape[1]\n",
    "n_hidden = 256\n",
    "n_output = 10\n",
    "\n",
    "## 4 初始化权重和bias\n",
    "torch.manual_seed(1)\n",
    "\n",
    "W1 = torch.randn((n_input,n_hidden))\n",
    "W2 = torch.randn((n_hidden,n_output))\n",
    "\n",
    "B1 = torch.randn(256)\n",
    "B2 = torch.randn(10)\n",
    "y_hid = activation(torch.mm(input,W1)+B1) # 最后一层不是sigmoid了\n",
    "\n",
    "\n",
    "out = torch.mm(y_hid,W2)+B2\n",
    "\n",
    "print(out.shape)\n",
    "print(out)\n",
    "# output of your network, should have shape (64,10)"
   ]
  },
  {
   "cell_type": "markdown",
   "metadata": {},
   "source": [
    "Now we have 10 outputs for our network. We want to pass in an image to our network and get out a probability distribution over the classes that tells us the likely class(es) the image belongs to. Something that looks like this:\n",
    "<img src='assets/image_distribution.png' width=500px>\n",
    "\n",
    "Here we see that the probability for each class is roughly the same. This is representing an untrained network, it hasn't seen any data yet so it just returns a uniform distribution with equal probabilities for each class.\n",
    "\n",
    "To calculate this probability distribution, we often use the [**softmax** function](https://en.wikipedia.org/wiki/Softmax_function). Mathematically this looks like\n",
    "\n",
    "$$\n",
    "\\Large \\sigma(x_i) = \\cfrac{e^{x_i}}{\\sum_k^K{e^{x_k}}}\n",
    "$$\n",
    "\n",
    "What this does is squish each input $x_i$ between 0 and 1 and normalizes the values to give you a proper probability distribution where the probabilites sum up to one.\n",
    "\n",
    "> **Exercise:** Implement a function `softmax` that performs the softmax calculation and returns probability distributions for each example in the batch. Note that you'll need to pay attention to the shapes when doing this. If you have a tensor `a` with shape `(64, 10)` and a tensor `b` with shape `(64,)`, doing `a/b` will give you an error because PyTorch will try to do the division across the columns (called broadcasting) but you'll get a size mismatch. The way to think about this is for each of the 64 examples, you only want to divide by one value, the sum in the denominator. So you need `b` to have a shape of `(64, 1)`. This way PyTorch will divide the 10 values in each row of `a` by the one value in each row of `b`. Pay attention to how you take the sum as well. You'll need to define the `dim` keyword in `torch.sum`. Setting `dim=0` takes the sum across the rows while `dim=1` takes the sum across the columns."
   ]
  },
  {
   "cell_type": "code",
   "execution_count": 22,
   "metadata": {
    "ExecuteTime": {
     "end_time": "2019-12-03T13:13:51.665326Z",
     "start_time": "2019-12-03T13:13:51.658311Z"
    },
    "scrolled": true
   },
   "outputs": [
    {
     "name": "stdout",
     "output_type": "stream",
     "text": [
      "torch.Size([64, 10])\n",
      "tensor([1.0000, 1.0000, 1.0000, 1.0000, 1.0000, 1.0000, 1.0000, 1.0000, 1.0000,\n",
      "        1.0000, 1.0000, 1.0000, 1.0000, 1.0000, 1.0000, 1.0000, 1.0000, 1.0000,\n",
      "        1.0000, 1.0000, 1.0000, 1.0000, 1.0000, 1.0000, 1.0000, 1.0000, 1.0000,\n",
      "        1.0000, 1.0000, 1.0000, 1.0000, 1.0000, 1.0000, 1.0000, 1.0000, 1.0000,\n",
      "        1.0000, 1.0000, 1.0000, 1.0000, 1.0000, 1.0000, 1.0000, 1.0000, 1.0000,\n",
      "        1.0000, 1.0000, 1.0000, 1.0000, 1.0000, 1.0000, 1.0000, 1.0000, 1.0000,\n",
      "        1.0000, 1.0000, 1.0000, 1.0000, 1.0000, 1.0000, 1.0000, 1.0000, 1.0000,\n",
      "        1.0000])\n",
      "torch.Size([64])\n"
     ]
    }
   ],
   "source": [
    "def softmax(x):\n",
    "    ## TODO: Implement the softmax function here\n",
    "    x_sum = torch.sum(torch.exp(x),dim = 1).view(-1,1)\n",
    "    return torch.exp(x)/x_sum\n",
    "# Here, out should be the output of the network in the previous excercise with shape (64,10)\n",
    "probabilities = softmax(out)\n",
    "\n",
    "# Does it have the right shape? Should be (64, 10)\n",
    "print(probabilities.shape)\n",
    "# Does it sum to 1?\n",
    "print(probabilities.sum(dim=1))\n",
    "\n",
    "s = torch.sum(torch.exp(out),dim = 1) \n"
   ]
  },
  {
   "cell_type": "markdown",
   "metadata": {},
   "source": [
    "## Building networks with PyTorch\n",
    "\n",
    "神经网络构建\n",
    "\n",
    "PyTorch provides a module `nn` that makes building networks much simpler. Here I'll show you how to build the same one as above with 784 inputs, 256 hidden units, 10 output units and a softmax output.\n",
    "\n",
    "- 784个输入\n",
    "- 256个隐藏单元\n",
    "- 10个输出"
   ]
  },
  {
   "cell_type": "code",
   "execution_count": 23,
   "metadata": {
    "ExecuteTime": {
     "end_time": "2019-12-03T13:26:32.455851Z",
     "start_time": "2019-12-03T13:26:32.451886Z"
    }
   },
   "outputs": [],
   "source": [
    "from torch import nn"
   ]
  },
  {
   "cell_type": "code",
   "execution_count": 24,
   "metadata": {
    "ExecuteTime": {
     "end_time": "2019-12-03T13:36:16.143602Z",
     "start_time": "2019-12-03T13:36:16.138577Z"
    }
   },
   "outputs": [],
   "source": [
    "class Network(nn.Module):\n",
    "    def __init__(self):\n",
    "        super().__init__()\n",
    "        \n",
    "        # Inputs to hidden layer linear transformation\n",
    "        self.hidden = nn.Linear(784, 256)\n",
    "        # Output layer, 10 units - one for each digit\n",
    "        self.output = nn.Linear(256, 10)\n",
    "        \n",
    "        # Define sigmoid activation and softmax output \n",
    "        self.sigmoid = nn.Sigmoid()\n",
    "        self.softmax = nn.Softmax(dim=1)\n",
    "        \n",
    "    def forward(self, x):\n",
    "        # Pass the input tensor through each of our operations\n",
    "        x = self.hidden(x)\n",
    "        x = self.sigmoid(x)\n",
    "        x = self.output(x)\n",
    "        x = self.softmax(x)\n",
    "        \n",
    "        return x"
   ]
  },
  {
   "cell_type": "markdown",
   "metadata": {},
   "source": [
    "Let's go through this bit by bit.\n",
    "\n",
    "```python\n",
    "class Network(nn.Module):\n",
    "```\n",
    "首先，先定义个网络结构的相关类，继承于nn模块。这样就可以继续构建网络结构了。\n",
    "Here we're inheriting from `nn.Module`. Combined with `super().__init__()` this creates a class that tracks the architecture and provides a lot of useful methods and attributes. It is mandatory to inherit from `nn.Module` when you're creating a class for your network. The name of the class itself can be anything.\n",
    "\n",
    "```python\n",
    "self.hidden = nn.Linear(784, 256)\n",
    "```\n",
    "- 这里，nn.Linear()代表的是创建一个线性转换，也就是层的概念，第一个参数是输入有多少个，第二个是输出有多少个。\n",
    "- 值得一提的是，这个函数还可以自动创建权重和bias。\n",
    "- 当网络创建完成是，可以通过net.hidden.weight 和 net.hidden.bias 来查看每个层的权重和bias\n",
    "\n",
    "This line creates a module for a linear transformation, $x\\mathbf{W} + b$, with 784 inputs and 256 outputs and assigns it to `self.hidden`. The module automatically creates the weight and bias tensors which we'll use in the `forward` method. You can access the weight and bias tensors once the network (`net`) is created with `net.hidden.weight` and `net.hidden.bias`.\n",
    "\n",
    "```python\n",
    "self.output = nn.Linear(256, 10)\n",
    "```\n",
    "\n",
    "Similarly, this creates another linear transformation with 256 inputs and 10 outputs.\n",
    "\n",
    "```python\n",
    "self.sigmoid = nn.Sigmoid()\n",
    "self.softmax = nn.Softmax(dim=1)\n",
    "```\n",
    "- nn.Sigmoid()函数是激活函数\n",
    "- softmax函数中 dim=1意思是默认 每一行是一个样本的输出值，所以dim是按照dim进行加和求softmax（dim 0 行1列）\n",
    "Here I defined operations for the sigmoid activation and softmax output. Setting `dim=1` in `nn.Softmax(dim=1)` calculates softmax across the columns.\n",
    "\n",
    "```python\n",
    "def forward(self, x):\n",
    "```\n",
    "- 前向传播\n",
    "PyTorch networks created with `nn.Module` must have a `forward` method defined. It takes in a tensor `x` and passes it through the operations you defined in the `__init__` method.\n",
    "\n",
    "```python\n",
    "x = self.hidden(x)\n",
    "x = self.sigmoid(x)\n",
    "x = self.output(x)\n",
    "x = self.softmax(x)\n",
    "```\n",
    "\n",
    "Here the input tensor `x` is passed through each operation and reassigned to `x`. We can see that the input tensor goes through the hidden layer, then a sigmoid function, then the output layer, and finally the softmax function. It doesn't matter what you name the variables here, as long as the inputs and outputs of the operations match the network architecture you want to build. The order in which you define things in the `__init__` method doesn't matter, but you'll need to sequence the operations correctly in the `forward` method.\n",
    "\n",
    "Now we can create a `Network` object.\n",
    "\n",
    "搞定了。。简直比较简单。。"
   ]
  },
  {
   "cell_type": "code",
   "execution_count": 25,
   "metadata": {
    "ExecuteTime": {
     "end_time": "2019-12-03T13:36:19.275945Z",
     "start_time": "2019-12-03T13:36:19.258197Z"
    }
   },
   "outputs": [
    {
     "data": {
      "text/plain": [
       "Network(\n",
       "  (hidden): Linear(in_features=784, out_features=256, bias=True)\n",
       "  (output): Linear(in_features=256, out_features=10, bias=True)\n",
       "  (sigmoid): Sigmoid()\n",
       "  (softmax): Softmax(dim=1)\n",
       ")"
      ]
     },
     "execution_count": 25,
     "metadata": {},
     "output_type": "execute_result"
    }
   ],
   "source": [
    "# Create the network and look at it's text representation\n",
    "model = Network()\n",
    "model"
   ]
  },
  {
   "cell_type": "markdown",
   "metadata": {},
   "source": [
    "You can define the network somewhat more concisely and clearly using the `torch.nn.functional` module. This is the most common way you'll see networks defined as many operations are simple element-wise functions. We normally import this module as `F`, `import torch.nn.functional as F`.\n",
    "\n",
    "- torch.nn.functional 模块有很多其他的函数用于定于神经网络。"
   ]
  },
  {
   "cell_type": "code",
   "execution_count": 26,
   "metadata": {
    "ExecuteTime": {
     "end_time": "2019-12-03T13:38:41.620826Z",
     "start_time": "2019-12-03T13:38:41.614858Z"
    }
   },
   "outputs": [],
   "source": [
    "import torch.nn.functional as F\n",
    "\n",
    "class Network(nn.Module):\n",
    "    def __init__(self):\n",
    "        super().__init__()\n",
    "        # Inputs to hidden layer linear transformation\n",
    "        self.hidden = nn.Linear(784, 256)\n",
    "        # Output layer, 10 units - one for each digit\n",
    "        self.output = nn.Linear(256, 10)\n",
    "        \n",
    "    def forward(self, x):\n",
    "        # Hidden layer with sigmoid activation\n",
    "        x = F.sigmoid(self.hidden(x))  #函数预定义好的，就不用像上面那样先定义了，很简单~~\n",
    "        # Output layer with softmax activation\n",
    "        x = F.softmax(self.output(x), dim=1)\n",
    "        \n",
    "        return x"
   ]
  },
  {
   "cell_type": "markdown",
   "metadata": {},
   "source": [
    "### Activation functions\n",
    "\n",
    "激活函数\n",
    "\n",
    "So far we've only been looking at the sigmoid activation function, but in general any function can be used as an activation function. The only requirement is that for a network to approximate a non-linear function（一定要是非线性激活函数）, the activation functions must be non-linear. Here are a few more examples of common activation functions: Tanh (hyperbolic tangent), and ReLU (rectified linear unit).\n",
    "\n",
    "<img src=\"assets/activation.png\" width=700px>\n",
    "\n",
    "In practice, the ReLU function is used almost exclusively as the activation function for hidden layers."
   ]
  },
  {
   "cell_type": "markdown",
   "metadata": {},
   "source": [
    "### Your Turn to Build a Network\n",
    "\n",
    "<img src=\"assets/mlp_mnist.png\" width=600px>\n",
    "\n",
    "> **Exercise:** Create a network with 784 input units, a hidden layer with 128 units and a ReLU activation, then a hidden layer with 64 units and a ReLU activation, and finally an output layer with a softmax activation as shown above. You can use a ReLU activation with the `nn.ReLU` module or `F.relu` function.\n",
    "\n",
    "It's good practice to name your layers by their type of network, for instance 'fc' to represent a fully-connected layer. As you code your solution, use `fc1`, `fc2`, and `fc3` as your layer names."
   ]
  },
  {
   "cell_type": "code",
   "execution_count": 30,
   "metadata": {
    "ExecuteTime": {
     "end_time": "2019-12-03T13:52:24.105498Z",
     "start_time": "2019-12-03T13:52:24.099514Z"
    },
    "scrolled": true
   },
   "outputs": [],
   "source": [
    "## Your solution here\n",
    "import torch as th\n",
    "import torch.nn.functional as F\n",
    "\n",
    "class network(th.nn.Module):\n",
    "    def __init__(self):\n",
    "        super().__init__()\n",
    "        self.fc1 = th.nn.Linear(784,128)\n",
    "        self.fc2 = th.nn.Linear(128,64)\n",
    "        self.fc3 = th.nn.Linear(64,10)\n",
    "        \n",
    "    def forward(self,x):\n",
    "        fc1 = self.fc1(x)\n",
    "        fc1_out = F.relu(fc1)\n",
    "        fc2 = self.fc2(fc1_out)\n",
    "        fc2_out = F.relu(fc2)\n",
    "        fc3 = self.fc3(fc2_out)\n",
    "        y_pre = F.softmax(fc3,dim=1)\n",
    "        return y_pre\n",
    "    \n",
    "model = network()"
   ]
  },
  {
   "cell_type": "markdown",
   "metadata": {},
   "source": [
    "### Initializing weights and biases\n",
    "\n",
    "The weights and such are automatically initialized for you, but it's possible to customize how they are initialized. The weights and biases are tensors attached to the layer you defined, you can get them with `model.fc1.weight` for instance.\n",
    "\n",
    "权重是自动初始化的，但是也可以自己定义初始化。可以使用model.fc1.weight 获取"
   ]
  },
  {
   "cell_type": "code",
   "execution_count": 31,
   "metadata": {
    "ExecuteTime": {
     "end_time": "2019-12-03T13:53:32.602348Z",
     "start_time": "2019-12-03T13:53:32.570290Z"
    }
   },
   "outputs": [
    {
     "name": "stdout",
     "output_type": "stream",
     "text": [
      "Parameter containing:\n",
      "tensor([[ 0.0320, -0.0029, -0.0028,  ...,  0.0218, -0.0048, -0.0052],\n",
      "        [ 0.0071,  0.0089, -0.0170,  ..., -0.0083,  0.0174, -0.0355],\n",
      "        [ 0.0257,  0.0105,  0.0293,  ..., -0.0223,  0.0028, -0.0163],\n",
      "        ...,\n",
      "        [ 0.0052, -0.0307, -0.0001,  ...,  0.0137, -0.0056,  0.0173],\n",
      "        [ 0.0045,  0.0061,  0.0251,  ...,  0.0343,  0.0321, -0.0104],\n",
      "        [ 0.0032,  0.0098,  0.0275,  ..., -0.0283, -0.0074,  0.0332]],\n",
      "       requires_grad=True)\n",
      "Parameter containing:\n",
      "tensor([-0.0233,  0.0174,  0.0291,  0.0196, -0.0264,  0.0064, -0.0157,  0.0098,\n",
      "        -0.0043, -0.0177,  0.0223, -0.0143,  0.0100,  0.0063,  0.0027,  0.0303,\n",
      "        -0.0097,  0.0245,  0.0090, -0.0154,  0.0055,  0.0216,  0.0196,  0.0142,\n",
      "        -0.0107,  0.0322,  0.0049,  0.0240, -0.0239,  0.0289,  0.0002, -0.0136,\n",
      "         0.0319,  0.0100,  0.0104,  0.0077, -0.0132, -0.0311,  0.0114,  0.0012,\n",
      "        -0.0350, -0.0032,  0.0193,  0.0080,  0.0032,  0.0040, -0.0102, -0.0344,\n",
      "        -0.0338,  0.0131,  0.0305, -0.0090, -0.0047, -0.0038,  0.0057, -0.0242,\n",
      "        -0.0301,  0.0297, -0.0280,  0.0212, -0.0065,  0.0279, -0.0142,  0.0296,\n",
      "        -0.0017,  0.0055, -0.0198, -0.0317,  0.0305,  0.0183,  0.0294, -0.0317,\n",
      "         0.0324,  0.0343, -0.0017, -0.0345, -0.0089, -0.0025, -0.0145,  0.0209,\n",
      "        -0.0346,  0.0114, -0.0176,  0.0105, -0.0036, -0.0317,  0.0208,  0.0214,\n",
      "         0.0325, -0.0247, -0.0254,  0.0154, -0.0227,  0.0107, -0.0234, -0.0172,\n",
      "         0.0177,  0.0087, -0.0240, -0.0153,  0.0315, -0.0171,  0.0052,  0.0019,\n",
      "         0.0156, -0.0135, -0.0306,  0.0068,  0.0301,  0.0048,  0.0332, -0.0316,\n",
      "         0.0086, -0.0252, -0.0168, -0.0006,  0.0197, -0.0293, -0.0241,  0.0054,\n",
      "         0.0152, -0.0074,  0.0198, -0.0131,  0.0225,  0.0254, -0.0035,  0.0011],\n",
      "       requires_grad=True)\n"
     ]
    }
   ],
   "source": [
    "print(model.fc1.weight)\n",
    "print(model.fc1.bias)"
   ]
  },
  {
   "cell_type": "markdown",
   "metadata": {},
   "source": [
    "For custom initialization, we want to modify these tensors in place. These are actually autograd *Variables*, so we need to get back the actual tensors with `model.fc1.weight.data`. Once we have the tensors, we can fill them with zeros (for biases) or random normal values."
   ]
  },
  {
   "cell_type": "code",
   "execution_count": 33,
   "metadata": {
    "ExecuteTime": {
     "end_time": "2019-12-03T13:54:41.716406Z",
     "start_time": "2019-12-03T13:54:41.711389Z"
    }
   },
   "outputs": [
    {
     "data": {
      "text/plain": [
       "tensor([0., 0., 0., 0., 0., 0., 0., 0., 0., 0., 0., 0., 0., 0., 0., 0., 0., 0., 0., 0., 0., 0., 0., 0.,\n",
       "        0., 0., 0., 0., 0., 0., 0., 0., 0., 0., 0., 0., 0., 0., 0., 0., 0., 0., 0., 0., 0., 0., 0., 0.,\n",
       "        0., 0., 0., 0., 0., 0., 0., 0., 0., 0., 0., 0., 0., 0., 0., 0., 0., 0., 0., 0., 0., 0., 0., 0.,\n",
       "        0., 0., 0., 0., 0., 0., 0., 0., 0., 0., 0., 0., 0., 0., 0., 0., 0., 0., 0., 0., 0., 0., 0., 0.,\n",
       "        0., 0., 0., 0., 0., 0., 0., 0., 0., 0., 0., 0., 0., 0., 0., 0., 0., 0., 0., 0., 0., 0., 0., 0.,\n",
       "        0., 0., 0., 0., 0., 0., 0., 0.])"
      ]
     },
     "execution_count": 33,
     "metadata": {},
     "output_type": "execute_result"
    }
   ],
   "source": [
    "# Set biases to all zeros bias初始化为0\n",
    "model.fc1.bias.data.fill_(0)"
   ]
  },
  {
   "cell_type": "code",
   "execution_count": 34,
   "metadata": {
    "ExecuteTime": {
     "end_time": "2019-12-03T13:54:53.198270Z",
     "start_time": "2019-12-03T13:54:53.183062Z"
    }
   },
   "outputs": [
    {
     "data": {
      "text/plain": [
       "tensor([[-0.0030, -0.0102,  0.0048,  ...,  0.0105,  0.0054, -0.0010],\n",
       "        [ 0.0084,  0.0109, -0.0050,  ..., -0.0013,  0.0100,  0.0045],\n",
       "        [-0.0053,  0.0027, -0.0231,  ...,  0.0173,  0.0043, -0.0042],\n",
       "        ...,\n",
       "        [ 0.0111, -0.0030,  0.0002,  ..., -0.0210,  0.0076, -0.0043],\n",
       "        [ 0.0221, -0.0084,  0.0002,  ...,  0.0034, -0.0028, -0.0171],\n",
       "        [-0.0085,  0.0013,  0.0174,  ...,  0.0030, -0.0088, -0.0115]])"
      ]
     },
     "execution_count": 34,
     "metadata": {},
     "output_type": "execute_result"
    }
   ],
   "source": [
    "# sample from random normal with standard dev = 0.01\n",
    "model.fc1.weight.data.normal_(std=0.01)"
   ]
  },
  {
   "cell_type": "markdown",
   "metadata": {},
   "source": [
    "### Forward pass\n",
    "\n",
    "Now that we have a network, let's see what happens when we pass in an image."
   ]
  },
  {
   "cell_type": "code",
   "execution_count": 35,
   "metadata": {
    "ExecuteTime": {
     "end_time": "2019-12-03T13:55:50.282574Z",
     "start_time": "2019-12-03T13:55:49.971968Z"
    }
   },
   "outputs": [
    {
     "data": {
      "image/png": "[encoded data removed]",
      "text/plain": [
       "<Figure size 432x648 with 2 Axes>"
      ]
     },
     "metadata": {
      "image/png": {
       "height": 235,
       "width": 424
      },
      "needs_background": "light"
     },
     "output_type": "display_data"
    }
   ],
   "source": [
    "# Grab some data \n",
    "dataiter = iter(trainloader)\n",
    "images, labels = dataiter.next()\n",
    "\n",
    "# Resize images into a 1D vector, new shape is (batch size, color channels, image pixels) \n",
    "images.resize_(64, 1, 784)\n",
    "# or images.resize_(images.shape[0], 1, 784) to automatically get batch size\n",
    "\n",
    "# Forward pass through the network\n",
    "img_idx = 0\n",
    "ps = model.forward(images[img_idx,:])\n",
    "\n",
    "img = images[img_idx]\n",
    "helper.view_classify(img.view(1, 28, 28), ps) # 自己定义的函数"
   ]
  },
  {
   "cell_type": "markdown",
   "metadata": {},
   "source": [
    "As you can see above, our network has basically no idea what this digit is. It's because we haven't trained it yet, all the weights are random!\n",
    "\n",
    "### Using `nn.Sequential`\n",
    "\n",
    "PyTorch provides a convenient way to build networks like this where a tensor is passed sequentially through operations, `nn.Sequential` ([documentation](https://pytorch.org/docs/master/nn.html#torch.nn.Sequential)). Using this to build the equivalent network:"
   ]
  },
  {
   "cell_type": "code",
   "execution_count": 36,
   "metadata": {
    "ExecuteTime": {
     "end_time": "2019-12-03T14:02:43.971976Z",
     "start_time": "2019-12-03T14:02:43.656686Z"
    }
   },
   "outputs": [
    {
     "name": "stdout",
     "output_type": "stream",
     "text": [
      "Sequential(\n",
      "  (0): Linear(in_features=784, out_features=128, bias=True)\n",
      "  (1): ReLU()\n",
      "  (2): Linear(in_features=128, out_features=64, bias=True)\n",
      "  (3): ReLU()\n",
      "  (4): Linear(in_features=64, out_features=10, bias=True)\n",
      "  (5): Softmax(dim=1)\n",
      ")\n"
     ]
    },
    {
     "data": {
      "image/png": "[encoded data removed]",
      "text/plain": [
       "<Figure size 432x648 with 2 Axes>"
      ]
     },
     "metadata": {
      "image/png": {
       "height": 235,
       "width": 424
      },
      "needs_background": "light"
     },
     "output_type": "display_data"
    }
   ],
   "source": [
    "# Hyperparameters for our network\n",
    "input_size = 784\n",
    "hidden_sizes = [128, 64]\n",
    "output_size = 10\n",
    "\n",
    "# Build a feed-forward network\n",
    "model = nn.Sequential(nn.Linear(input_size, hidden_sizes[0]),\n",
    "                      nn.ReLU(),\n",
    "                      nn.Linear(hidden_sizes[0], hidden_sizes[1]),\n",
    "                      nn.ReLU(),\n",
    "                      nn.Linear(hidden_sizes[1], output_size),\n",
    "                      nn.Softmax(dim=1))\n",
    "print(model)\n",
    "\n",
    "# Forward pass through the network and display output\n",
    "images, labels = next(iter(trainloader))\n",
    "images.resize_(images.shape[0], 1, 784)\n",
    "ps = model.forward(images[0,:])\n",
    "helper.view_classify(images[0].view(1, 28, 28), ps)"
   ]
  },
  {
   "cell_type": "markdown",
   "metadata": {},
   "source": [
    "Here our model is the same as before: 784 input units, a hidden layer with 128 units, ReLU activation, 64 unit hidden layer, another ReLU, then the output layer with 10 units, and the softmax output.\n",
    "\n",
    "The operations are available by passing in the appropriate index. For example, if you want to get first Linear operation and look at the weights, you'd use `model[0]`."
   ]
  },
  {
   "cell_type": "code",
   "execution_count": 37,
   "metadata": {
    "ExecuteTime": {
     "end_time": "2019-12-03T14:03:16.551610Z",
     "start_time": "2019-12-03T14:03:16.544562Z"
    }
   },
   "outputs": [
    {
     "name": "stdout",
     "output_type": "stream",
     "text": [
      "Linear(in_features=784, out_features=128, bias=True)\n"
     ]
    },
    {
     "data": {
      "text/plain": [
       "Parameter containing:\n",
       "tensor([[ 2.0944e-02,  1.6442e-02, -6.5822e-03,  ..., -1.7857e-03,\n",
       "          2.8197e-02, -2.3540e-02],\n",
       "        [ 5.2746e-03,  3.5034e-02,  3.5611e-02,  ...,  1.4250e-02,\n",
       "         -1.9216e-02,  2.7800e-02],\n",
       "        [-2.9681e-02, -2.2127e-02, -9.6027e-05,  ..., -1.4190e-02,\n",
       "          5.6365e-03,  2.9643e-02],\n",
       "        ...,\n",
       "        [ 2.1010e-02, -2.0986e-02, -1.5161e-02,  ...,  5.8563e-03,\n",
       "          3.4811e-02,  1.3184e-02],\n",
       "        [ 2.7962e-02,  2.9949e-02, -1.5985e-02,  ...,  3.5713e-02,\n",
       "         -2.6574e-02, -2.8087e-02],\n",
       "        [ 3.0055e-02,  2.6746e-02, -1.0456e-02,  ..., -3.1121e-03,\n",
       "          2.2031e-02, -1.3051e-02]], requires_grad=True)"
      ]
     },
     "execution_count": 37,
     "metadata": {},
     "output_type": "execute_result"
    }
   ],
   "source": [
    "print(model[0])\n",
    "model[0].weight"
   ]
  },
  {
   "cell_type": "markdown",
   "metadata": {},
   "source": [
    "You can also pass in an `OrderedDict` to name the individual layers and operations, instead of using incremental integers. Note that dictionary keys must be unique, so _each operation must have a different name_."
   ]
  },
  {
   "cell_type": "code",
   "execution_count": 38,
   "metadata": {
    "ExecuteTime": {
     "end_time": "2019-12-03T14:03:36.605698Z",
     "start_time": "2019-12-03T14:03:36.598663Z"
    }
   },
   "outputs": [
    {
     "data": {
      "text/plain": [
       "Sequential(\n",
       "  (fc1): Linear(in_features=784, out_features=128, bias=True)\n",
       "  (relu1): ReLU()\n",
       "  (fc2): Linear(in_features=128, out_features=64, bias=True)\n",
       "  (relu2): ReLU()\n",
       "  (output): Linear(in_features=64, out_features=10, bias=True)\n",
       "  (softmax): Softmax(dim=1)\n",
       ")"
      ]
     },
     "execution_count": 38,
     "metadata": {},
     "output_type": "execute_result"
    }
   ],
   "source": [
    "from collections import OrderedDict\n",
    "model = nn.Sequential(OrderedDict([\n",
    "                      ('fc1', nn.Linear(input_size, hidden_sizes[0])),\n",
    "                      ('relu1', nn.ReLU()),\n",
    "                      ('fc2', nn.Linear(hidden_sizes[0], hidden_sizes[1])),\n",
    "                      ('relu2', nn.ReLU()),\n",
    "                      ('output', nn.Linear(hidden_sizes[1], output_size)),\n",
    "                      ('softmax', nn.Softmax(dim=1))]))\n",
    "model"
   ]
  },
  {
   "cell_type": "markdown",
   "metadata": {},
   "source": [
    "Now you can access layers either by integer or the name"
   ]
  },
  {
   "cell_type": "code",
   "execution_count": 39,
   "metadata": {
    "ExecuteTime": {
     "end_time": "2019-12-03T14:03:39.157744Z",
     "start_time": "2019-12-03T14:03:39.153746Z"
    }
   },
   "outputs": [
    {
     "name": "stdout",
     "output_type": "stream",
     "text": [
      "Linear(in_features=784, out_features=128, bias=True)\n",
      "Linear(in_features=784, out_features=128, bias=True)\n"
     ]
    }
   ],
   "source": [
    "print(model[0])\n",
    "print(model.fc1)"
   ]
  },
  {
   "cell_type": "markdown",
   "metadata": {},
   "source": [
    "In the next notebook, we'll see how we can train a neural network to accuractly predict the numbers appearing in the MNIST images."
   ]
  }
 ],
 "metadata": {
  "kernelspec": {
   "display_name": "Python 3",
   "language": "python",
   "name": "python3"
  },
  "language_info": {
   "codemirror_mode": {
    "name": "ipython",
    "version": 3
   },
   "file_extension": ".py",
   "mimetype": "text/x-python",
   "name": "python",
   "nbconvert_exporter": "python",
   "pygments_lexer": "ipython3",
   "version": "3.6.9"
  },
  "latex_envs": {
   "LaTeX_envs_menu_present": true,
   "autoclose": false,
   "autocomplete": true,
   "bibliofile": "biblio.bib",
   "cite_by": "apalike",
   "current_citInitial": 1,
   "eqLabelWithNumbers": true,
   "eqNumInitial": 1,
   "hotkeys": {
    "equation": "Ctrl-E",
    "itemize": "Ctrl-I"
   },
   "labels_anchors": false,
   "latex_user_defs": false,
   "report_style_numbering": false,
   "user_envs_cfg": false
  },
  "toc": {
   "base_numbering": 1,
   "nav_menu": {},
   "number_sections": true,
   "sideBar": true,
   "skip_h1_title": false,
   "title_cell": "Table of Contents",
   "title_sidebar": "Contents",
   "toc_cell": false,
   "toc_position": {},
   "toc_section_display": true,
   "toc_window_display": false
  },
  "varInspector": {
   "cols": {
    "lenName": 16,
    "lenType": 16,
    "lenVar": 40
   },
   "kernels_config": {
    "python": {
     "delete_cmd_postfix": "",
     "delete_cmd_prefix": "del ",
     "library": "var_list.py",
     "varRefreshCmd": "print(var_dic_list())"
    },
    "r": {
     "delete_cmd_postfix": ") ",
     "delete_cmd_prefix": "rm(",
     "library": "var_list.r",
     "varRefreshCmd": "cat(var_dic_list()) "
    }
   },
   "types_to_exclude": [
    "module",
    "function",
    "builtin_function_or_method",
    "instance",
    "_Feature"
   ],
   "window_display": false
  }
 },
 "nbformat": 4,
 "nbformat_minor": 2
}
